{
 "cells": [
  {
   "cell_type": "markdown",
   "metadata": {},
   "source": [
    "<h1> CS70: Note 7 <h1>"
   ]
  },
  {
   "cell_type": "markdown",
   "metadata": {},
   "source": [
    "<h2>Public Key Cryptography</h2>"
   ]
  },
  {
   "cell_type": "markdown",
   "metadata": {},
   "source": [
    "In this note, we discuss a very nice and important application of modular arithmetic: <i>the RSA public-key\n",
    "cryptosystem</i>, named after its inventors Ronald Rivest, Adi Shamir and Leonard Adleman."
   ]
  },
  {
   "cell_type": "markdown",
   "metadata": {},
   "source": [
    "The basic setting for cryptography is typically described via a cast of three characters: Alice and Bob, who\n",
    "with to communicate confidentially over some (insecure) link, and Eve, an eavesdropper who is listening in\n",
    "and trying to discover what they are saying. Let’s assume that Alice wants to transmit a message x (written\n",
    "in binary) to Bob. She will apply her encryption function E to x and send the encrypted message E(x) over\n",
    "the link; Bob, upon receipt of E(x), will then apply his decryption function D to it and thus recover the\n",
    "original message: i.e., D(E(x)) = x."
   ]
  },
  {
   "cell_type": "markdown",
   "metadata": {},
   "source": [
    "Since the link is insecure, Alice and Bob have to assume that Eve may get hold of E(x). (Think of Eve\n",
    "as being a “sniffer\" on the network.) Thus ideally we would like to know that the encryption function E is\n",
    "chosen so that just knowing E(x) (without knowing the decryption function D) doesn’t allow one to discover\n",
    "anything about the original message x"
   ]
  },
  {
   "cell_type": "markdown",
   "metadata": {},
   "source": [
    "For centuries cryptography was based on what are now called private-key protocols. In such a scheme,\n",
    "Alice and Bob meet beforehand and together choose a secret codebook, with which they encrypt all future\n",
    "correspondence between them. (This codebook plays the role of the functions E and D above.) Eve’s only\n",
    "hope then is to collect some encrypted messages and use them to at least partially figure out the codebook."
   ]
  },
  {
   "cell_type": "markdown",
   "metadata": {},
   "source": [
    "<i>Public-key</i> schemes such as RSA, first invented in the 1970s, are significantly more subtle and tricky: they\n",
    "allow Alice to send Bob a message without ever having met him before! This almost sounds impossible,\n",
    "because in this scenario there is a symmetry between Bob and Eve: why should Bob have any advantage over\n",
    "Eve in terms of being able to understand Alice’s message? The central idea behind the RSA cryptosystem\n",
    "is that Bob is able to implement a <i>digital lock</i>, to which only he has the key. Now by making this digital\n",
    "lock public, he gives Alice (or, indeed, anybody else) a way to send him a secure message which only he\n",
    "can open"
   ]
  },
  {
   "cell_type": "markdown",
   "metadata": {},
   "source": [
    "Here is how the digital lock is implemented in the RSA scheme. Each person has a <i>public key</i> known to the\n",
    "whole world, and a <i>private key</i> known only to him- or herself. When Alice wants to send a message x to\n",
    "Bob, she encodes it using Bob’s public key. Bob then decrypts it using his private key, thus retrieving x. Eve\n",
    "is welcome to see as many encrypted messages for Bob as she likes, but she will not be able to decode them\n",
    "(under certain basic assumptions explained later in this Note)."
   ]
  },
  {
   "cell_type": "markdown",
   "metadata": {},
   "source": [
    "The RSA scheme is based heavily on modular arithmetic. Let p and q be two large primes (typically having,\n",
    "say, 512 bits each), and let N = pq. We will think of messages to Bob as numbers modulo N, excluding the\n",
    "trivial values 0 and 1. (Larger messages can always be broken into smaller pieces and sent separately.)"
   ]
  },
  {
   "cell_type": "markdown",
   "metadata": {},
   "source": [
    "Also, let e be any number that is relatively prime to (p−1)(q−1). (Typically e is a small value such as 3.)\n",
    "Then Bob’s public key is the pair of numbers (N,e). This pair is published to the whole world. (Note,\n",
    "however, that the numbers p and q are not public; this point is crucial and we will return to it below.)"
   ]
  },
  {
   "cell_type": "markdown",
   "metadata": {},
   "source": [
    "What is Bob’s private key? This will be the number d, which is the inverse of e mod (p−1)(q−1). (This\n",
    "inverse is guaranteed to exist because e and (p−1)(q−1) are coprime.)"
   ]
  },
  {
   "cell_type": "markdown",
   "metadata": {},
   "source": [
    "We are now in a position to describe the encryption and decryption functions:\n",
    "<ul>\n",
    "    <li>[Encryption]: When Alice wants to send a message x (assumed to be an integer mod N) to Bob, she\n",
    "computes the value E(x) = x\n",
    "        e mod N and sends this to Bob.</li>\n",
    "<li>[Decryption]: Upon receiving the value y = E(x), Bob computes D(y) = y\n",
    "d mod N; this will be equal\n",
    "    to the original message x.</li>\n",
    "</ul>"
   ]
  },
  {
   "cell_type": "markdown",
   "metadata": {},
   "source": [
    "Example: Let $p = 5$, $q = 11$, and $N = pq = 55$. (In practice, p and q would be much larger.) Then we can\n",
    "choose $e = 3$, which is relatively prime to $(p−1)(q−1) = 40$. Thus Bob’s public key is $(55,3)$. His private\n",
    "key is $d \\equiv 3^\n",
    "{−1}\\mod 40 \\equiv 27$. For any message x that Alice (or anybody else) wishes to send to Bob, the\n",
    "encryption of $x$ is $y \\equiv x^\n",
    "{3} \\mod 55$, and the decryption of $y$ is $x \\equiv y^\n",
    "{27} \\mod 55$. So, for example, if the message\n",
    "is $x = 13$, then the encryption is $y = 133 = 52 mod 55, and this is decrypted as 5227 = 13 mod 55."
   ]
  },
  {
   "cell_type": "code",
   "execution_count": null,
   "metadata": {},
   "outputs": [],
   "source": []
  }
 ],
 "metadata": {
  "kernelspec": {
   "display_name": "Python 3",
   "language": "python",
   "name": "python3"
  },
  "language_info": {
   "codemirror_mode": {
    "name": "ipython",
    "version": 3
   },
   "file_extension": ".py",
   "mimetype": "text/x-python",
   "name": "python",
   "nbconvert_exporter": "python",
   "pygments_lexer": "ipython3",
   "version": "3.6.7"
  }
 },
 "nbformat": 4,
 "nbformat_minor": 2
}
